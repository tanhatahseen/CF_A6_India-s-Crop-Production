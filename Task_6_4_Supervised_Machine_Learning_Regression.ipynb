{
  "nbformat": 4,
  "nbformat_minor": 0,
  "metadata": {
    "colab": {
      "provenance": [],
      "machine_shape": "hm"
    },
    "kernelspec": {
      "name": "python3",
      "display_name": "Python 3"
    },
    "language_info": {
      "name": "python"
    },
    "gpuClass": "standard"
  },
  "cells": [
    {
      "cell_type": "markdown",
      "source": [
        "2. Import the libraries you need into a new notebook, including any necessary modules from scikit-learn."
      ],
      "metadata": {
        "id": "9O2UcWoj-pCs"
      }
    },
    {
      "cell_type": "code",
      "execution_count": 1,
      "metadata": {
        "id": "Fago3sGo-NZg"
      },
      "outputs": [],
      "source": [
        "import pandas as pd\n",
        "import numpy as np\n",
        "import seaborn as sns\n",
        "import matplotlib\n",
        "import matplotlib.pyplot as plt\n",
        "import os\n",
        "import sklearn\n",
        "from sklearn.model_selection import train_test_split \n",
        "from sklearn.linear_model import LinearRegression\n",
        "from sklearn.metrics import mean_squared_error, r2_score"
      ]
    },
    {
      "cell_type": "code",
      "source": [
        "df = pd.read_csv('/content/India_crops_preprocessed_categorized_wtout_outliers.csv')"
      ],
      "metadata": {
        "id": "gE2DlYVe-ZYt"
      },
      "execution_count": 2,
      "outputs": []
    },
    {
      "cell_type": "code",
      "source": [
        "df.shape"
      ],
      "metadata": {
        "colab": {
          "base_uri": "https://localhost:8080/"
        },
        "id": "SN1fELmcLkdv",
        "outputId": "163525b9-9590-4143-ee80-b31225014f2f"
      },
      "execution_count": 19,
      "outputs": [
        {
          "output_type": "execute_result",
          "data": {
            "text/plain": [
              "(233801, 12)"
            ]
          },
          "metadata": {},
          "execution_count": 19
        }
      ]
    },
    {
      "cell_type": "markdown",
      "source": [
        "3. Clean your data so that it’s ready for analysis. (The data was further cleaned, wrangled and outliers were removed using the Q3 + 1.5*IQR formula in the \"Achievement_6_Further_rangling_and_subsetting_data\" notebook. Though, another consistency check is run here.)"
      ],
      "metadata": {
        "id": "6mVavB-r-v9L"
      }
    },
    {
      "cell_type": "code",
      "source": [
        "# Check for missing values\n",
        "\n",
        "df.isnull().sum() #Only 5 missing crop names"
      ],
      "metadata": {
        "colab": {
          "base_uri": "https://localhost:8080/"
        },
        "id": "mMfe4s7U-2Bw",
        "outputId": "2491c718-e867-48eb-ea42-ca08fc14255f"
      },
      "execution_count": 9,
      "outputs": [
        {
          "output_type": "execute_result",
          "data": {
            "text/plain": [
              "Unnamed: 0             0\n",
              "State                  0\n",
              "District               0\n",
              "Crop                   5\n",
              "Crop_Year              0\n",
              "Season                 0\n",
              "Area                   0\n",
              "Production             0\n",
              "Yield                  0\n",
              "Area_Category          0\n",
              "Production_Category    0\n",
              "Yield_Category         0\n",
              "dtype: int64"
            ]
          },
          "metadata": {},
          "execution_count": 9
        }
      ]
    },
    {
      "cell_type": "code",
      "source": [
        "# Checking for duplicates \n",
        "\n",
        "dups = df[df.duplicated()]"
      ],
      "metadata": {
        "id": "7BWrbrFG-4Or"
      },
      "execution_count": 4,
      "outputs": []
    },
    {
      "cell_type": "code",
      "source": [
        "dups.shape # No dups"
      ],
      "metadata": {
        "colab": {
          "base_uri": "https://localhost:8080/"
        },
        "id": "zcjUJ5YK-8Oe",
        "outputId": "ad94b8dd-ea02-40cf-9767-72ed2f9dd332"
      },
      "execution_count": 5,
      "outputs": [
        {
          "output_type": "execute_result",
          "data": {
            "text/plain": [
              "(0, 12)"
            ]
          },
          "metadata": {},
          "execution_count": 5
        }
      ]
    },
    {
      "cell_type": "markdown",
      "source": [
        "4. Explore your data visually (e.g., by way of a scatterplot), looking for variables whose relationship you’d like to test."
      ],
      "metadata": {
        "id": "acEuRHjr_DpC"
      }
    },
    {
      "cell_type": "code",
      "source": [
        "data_to_plot = df[['Area','Production','Yield']]"
      ],
      "metadata": {
        "id": "X4DkXI0N_FSR"
      },
      "execution_count": 6,
      "outputs": []
    },
    {
      "cell_type": "code",
      "source": [
        "# Create a subplot with matplotlib\n",
        "f,ax = plt.subplots(figsize=(10,10))\n",
        "\n",
        "# Create the correlation heatmap in seaborn by applying a heatmap onto the correlation matrix and the subplots defined above.\n",
        "corr = sns.heatmap(data_to_plot.corr(), annot = True, ax = ax)"
      ],
      "metadata": {
        "colab": {
          "base_uri": "https://localhost:8080/",
          "height": 596
        },
        "id": "SIsO9XkGB3TQ",
        "outputId": "384feef8-35a3-4f52-88e6-9bab3e05cd4b"
      },
      "execution_count": 7,
      "outputs": [
        {
          "output_type": "display_data",
          "data": {
            "text/plain": [
              "<Figure size 720x720 with 2 Axes>"
            ],
            "image/png": "[encoded data removed]"
          },
          "metadata": {
            "needs_background": "light"
          }
        }
      ]
    },
    {
      "cell_type": "markdown",
      "source": [
        "**Note:** There is a strong positive correlation between Area and Production. But a weak negative relation between area and yield. Thus, we can rule out our hypothesis that bigger lands will generate bigger yields. "
      ],
      "metadata": {
        "id": "znTRamaNJX5K"
      }
    },
    {
      "cell_type": "code",
      "source": [
        "# Create a scatterplot for the \"Area\" and \"Production\" columns in seaborn\n",
        "\n",
        "sns.lmplot(x = 'Area', y = 'Production', data = data_to_plot)"
      ],
      "metadata": {
        "colab": {
          "base_uri": "https://localhost:8080/",
          "height": 386
        },
        "id": "O4OGIi-BB6KX",
        "outputId": "11476dce-6d0b-45de-eed2-6f255b0ba0d8"
      },
      "execution_count": 8,
      "outputs": [
        {
          "output_type": "execute_result",
          "data": {
            "text/plain": [
              "<seaborn.axisgrid.FacetGrid at 0x7f6193501ca0>"
            ]
          },
          "metadata": {},
          "execution_count": 8
        },
        {
          "output_type": "display_data",
          "data": {
            "text/plain": [
              "<Figure size 360x360 with 1 Axes>"
            ],
            "image/png": "[encoded data removed]"
          },
          "metadata": {
            "needs_background": "light"
          }
        }
      ]
    },
    {
      "cell_type": "markdown",
      "source": [
        "5. State your hypothesis in a markdown cell within your Jupyter notebook."
      ],
      "metadata": {
        "id": "yr945x9V_HbW"
      }
    },
    {
      "cell_type": "markdown",
      "source": [
        "**Research hypothesis:** Bigger lands generate greater production. If an agricultural land is big, it will produce large amount of crops. "
      ],
      "metadata": {
        "id": "-3LnXj8_CCiV"
      }
    },
    {
      "cell_type": "markdown",
      "source": [
        "6. Reshape the variables into NumPy arrays, with X being the independent variable and y being the dependent variable."
      ],
      "metadata": {
        "id": "1GQ295ah_MPb"
      }
    },
    {
      "cell_type": "code",
      "source": [
        "# Reshape the variables into NumPy arrays and put them into separate objects.\n",
        "\n",
        "X = df['Area'].values.reshape(-1,1)\n",
        "y = df['Production'].values.reshape(-1,1)"
      ],
      "metadata": {
        "id": "_RdoFKu__PM9"
      },
      "execution_count": 10,
      "outputs": []
    },
    {
      "cell_type": "markdown",
      "source": [
        "7. Split the data into two sets: a training set and a test set."
      ],
      "metadata": {
        "id": "GcRZbajj_Pg0"
      }
    },
    {
      "cell_type": "code",
      "source": [
        "# Split data into a training set and a test set.\n",
        "\n",
        "X_train, X_test, y_train, y_test = train_test_split(X, y, test_size=0.3, random_state=0)"
      ],
      "metadata": {
        "id": "7RQFVlde_T6e"
      },
      "execution_count": 11,
      "outputs": []
    },
    {
      "cell_type": "markdown",
      "source": [
        "8. Run a linear regression on the data.\n",
        "\n",
        "\n",
        "*   First, fit the model you created to the training set.\n",
        "*   Then, create a prediction for y on the test set.\n",
        "\n"
      ],
      "metadata": {
        "id": "VmSW8-x__UQ8"
      }
    },
    {
      "cell_type": "code",
      "source": [
        "# Create a regression object.\n",
        "\n",
        "regression = LinearRegression() "
      ],
      "metadata": {
        "id": "vg3xOZwx_fuV"
      },
      "execution_count": 12,
      "outputs": []
    },
    {
      "cell_type": "code",
      "source": [
        "# Fit the regression object onto the training set.\n",
        "\n",
        "regression.fit(X_train, y_train)"
      ],
      "metadata": {
        "colab": {
          "base_uri": "https://localhost:8080/",
          "height": 75
        },
        "id": "NVrOjxDOKjR7",
        "outputId": "4fa3bf2b-c4a3-4ca1-a9fc-90bc1bfb4963"
      },
      "execution_count": 14,
      "outputs": [
        {
          "output_type": "execute_result",
          "data": {
            "text/plain": [
              "LinearRegression()"
            ],
            "text/html": [
              "<style>#sk-container-id-1 {color: black;background-color: white;}#sk-container-id-1 pre{padding: 0;}#sk-container-id-1 div.sk-toggleable {background-color: white;}#sk-container-id-1 label.sk-toggleable__label {cursor: pointer;display: block;width: 100%;margin-bottom: 0;padding: 0.3em;box-sizing: border-box;text-align: center;}#sk-container-id-1 label.sk-toggleable__label-arrow:before {content: \"▸\";float: left;margin-right: 0.25em;color: #696969;}#sk-container-id-1 label.sk-toggleable__label-arrow:hover:before {color: black;}#sk-container-id-1 div.sk-estimator:hover label.sk-toggleable__label-arrow:before {color: black;}#sk-container-id-1 div.sk-toggleable__content {max-height: 0;max-width: 0;overflow: hidden;text-align: left;background-color: #f0f8ff;}#sk-container-id-1 div.sk-toggleable__content pre {margin: 0.2em;color: black;border-radius: 0.25em;background-color: #f0f8ff;}#sk-container-id-1 input.sk-toggleable__control:checked~div.sk-toggleable__content {max-height: 200px;max-width: 100%;overflow: auto;}#sk-container-id-1 input.sk-toggleable__control:checked~label.sk-toggleable__label-arrow:before {content: \"▾\";}#sk-container-id-1 div.sk-estimator input.sk-toggleable__control:checked~label.sk-toggleable__label {background-color: #d4ebff;}#sk-container-id-1 div.sk-label input.sk-toggleable__control:checked~label.sk-toggleable__label {background-color: #d4ebff;}#sk-container-id-1 input.sk-hidden--visually {border: 0;clip: rect(1px 1px 1px 1px);clip: rect(1px, 1px, 1px, 1px);height: 1px;margin: -1px;overflow: hidden;padding: 0;position: absolute;width: 1px;}#sk-container-id-1 div.sk-estimator {font-family: monospace;background-color: #f0f8ff;border: 1px dotted black;border-radius: 0.25em;box-sizing: border-box;margin-bottom: 0.5em;}#sk-container-id-1 div.sk-estimator:hover {background-color: #d4ebff;}#sk-container-id-1 div.sk-parallel-item::after {content: \"\";width: 100%;border-bottom: 1px solid gray;flex-grow: 1;}#sk-container-id-1 div.sk-label:hover label.sk-toggleable__label {background-color: #d4ebff;}#sk-container-id-1 div.sk-serial::before {content: \"\";position: absolute;border-left: 1px solid gray;box-sizing: border-box;top: 0;bottom: 0;left: 50%;z-index: 0;}#sk-container-id-1 div.sk-serial {display: flex;flex-direction: column;align-items: center;background-color: white;padding-right: 0.2em;padding-left: 0.2em;position: relative;}#sk-container-id-1 div.sk-item {position: relative;z-index: 1;}#sk-container-id-1 div.sk-parallel {display: flex;align-items: stretch;justify-content: center;background-color: white;position: relative;}#sk-container-id-1 div.sk-item::before, #sk-container-id-1 div.sk-parallel-item::before {content: \"\";position: absolute;border-left: 1px solid gray;box-sizing: border-box;top: 0;bottom: 0;left: 50%;z-index: -1;}#sk-container-id-1 div.sk-parallel-item {display: flex;flex-direction: column;z-index: 1;position: relative;background-color: white;}#sk-container-id-1 div.sk-parallel-item:first-child::after {align-self: flex-end;width: 50%;}#sk-container-id-1 div.sk-parallel-item:last-child::after {align-self: flex-start;width: 50%;}#sk-container-id-1 div.sk-parallel-item:only-child::after {width: 0;}#sk-container-id-1 div.sk-dashed-wrapped {border: 1px dashed gray;margin: 0 0.4em 0.5em 0.4em;box-sizing: border-box;padding-bottom: 0.4em;background-color: white;}#sk-container-id-1 div.sk-label label {font-family: monospace;font-weight: bold;display: inline-block;line-height: 1.2em;}#sk-container-id-1 div.sk-label-container {text-align: center;}#sk-container-id-1 div.sk-container {/* jupyter's `normalize.less` sets `[hidden] { display: none; }` but bootstrap.min.css set `[hidden] { display: none !important; }` so we also need the `!important` here to be able to override the default hidden behavior on the sphinx rendered scikit-learn.org. See: https://github.com/scikit-learn/scikit-learn/issues/21755 */display: inline-block !important;position: relative;}#sk-container-id-1 div.sk-text-repr-fallback {display: none;}</style><div id=\"sk-container-id-1\" class=\"sk-top-container\"><div class=\"sk-text-repr-fallback\"><pre>LinearRegression()</pre><b>In a Jupyter environment, please rerun this cell to show the HTML representation or trust the notebook. <br />On GitHub, the HTML representation is unable to render, please try loading this page with nbviewer.org.</b></div><div class=\"sk-container\" hidden><div class=\"sk-item\"><div class=\"sk-estimator sk-toggleable\"><input class=\"sk-toggleable__control sk-hidden--visually\" id=\"sk-estimator-id-1\" type=\"checkbox\" checked><label for=\"sk-estimator-id-1\" class=\"sk-toggleable__label sk-toggleable__label-arrow\">LinearRegression</label><div class=\"sk-toggleable__content\"><pre>LinearRegression()</pre></div></div></div></div></div>"
            ]
          },
          "metadata": {},
          "execution_count": 14
        }
      ]
    },
    {
      "cell_type": "code",
      "source": [
        "# Predict the values of y using X.\n",
        "\n",
        "y_predicted = regression.predict(X_test)"
      ],
      "metadata": {
        "id": "Yml7918JAX-V"
      },
      "execution_count": 15,
      "outputs": []
    },
    {
      "cell_type": "markdown",
      "source": [
        "9. Create a plot that shows the regression line on the test set."
      ],
      "metadata": {
        "id": "-_1_9v57_gFZ"
      }
    },
    {
      "cell_type": "code",
      "source": [
        "# Create a plot that shows the regression line from the model on the test set.\n",
        "\n",
        "plot_test = plt\n",
        "plot_test.scatter(X_test, y_test, color='gray', s = 15)\n",
        "plot_test.plot(X_test, y_predicted, color='red', linewidth =3)\n",
        "plot_test.title('Area vs Production (Test set)')\n",
        "plot_test.xlabel('Area in hectares')\n",
        "plot_test.ylabel('Production in tonnes')\n",
        "plot_test.show()"
      ],
      "metadata": {
        "colab": {
          "base_uri": "https://localhost:8080/",
          "height": 295
        },
        "id": "1W0rUYRI_o81",
        "outputId": "3a505281-9ff2-46a0-a099-94a6c7f21033"
      },
      "execution_count": 16,
      "outputs": [
        {
          "output_type": "display_data",
          "data": {
            "text/plain": [
              "<Figure size 432x288 with 1 Axes>"
            ],
            "image/png": "[encoded data removed]"
          },
          "metadata": {
            "needs_background": "light"
          }
        }
      ]
    },
    {
      "cell_type": "markdown",
      "source": [
        "10. Write your own interpretation of how well the line appears to fit the data in a markdown cell."
      ],
      "metadata": {
        "id": "8M5E5Pdp_pRH"
      }
    },
    {
      "cell_type": "markdown",
      "source": [
        "**Answer:** From the visualization, we can assess that our hypothesis is partially true. While many points fit onto the regression line, there are many points that sit far from the regression line. Which means, while many big lands do generate large productions, there are many lands with large areas that do not generate significant production."
      ],
      "metadata": {
        "id": "j-G3DjelKss5"
      }
    },
    {
      "cell_type": "markdown",
      "source": [
        "11. Check the model performance statistics—MSE and R2 score."
      ],
      "metadata": {
        "id": "hTWat_1I_tvm"
      }
    },
    {
      "cell_type": "code",
      "source": [
        "# Create objects that contain the model summary statistics.\n",
        "\n",
        "rmse = mean_squared_error(y_test, y_predicted) # This is the mean squared error\n",
        "r2 = r2_score(y_test, y_predicted) # This is the R2 score. "
      ],
      "metadata": {
        "id": "3aWc7aBF_xae"
      },
      "execution_count": 17,
      "outputs": []
    },
    {
      "cell_type": "code",
      "source": [
        "# Print the model summary statistics. \n",
        "\n",
        "print('Slope:' ,regression.coef_)\n",
        "print('Mean squared error: ', rmse)\n",
        "print('R2 score: ', r2)"
      ],
      "metadata": {
        "colab": {
          "base_uri": "https://localhost:8080/"
        },
        "id": "XvRRPv_kAitM",
        "outputId": "5331fa3b-7505-4f7e-8903-c18e84d37817"
      },
      "execution_count": 18,
      "outputs": [
        {
          "output_type": "stream",
          "name": "stdout",
          "text": [
            "Slope: [[0.95888567]]\n",
            "Mean squared error:  2618800.216121845\n",
            "R2 score:  0.583265801596381\n"
          ]
        }
      ]
    },
    {
      "cell_type": "markdown",
      "source": [
        "That's a large mean squared error!"
      ],
      "metadata": {
        "id": "jeHASo0XLfsF"
      }
    },
    {
      "cell_type": "markdown",
      "source": [
        "12. Compare the predicted y values with the actual y values in a dataframe."
      ],
      "metadata": {
        "id": "c5_8BC18_xzC"
      }
    },
    {
      "cell_type": "code",
      "source": [
        "# Create a dataframe comparing the actual and predicted values of y.\n",
        "\n",
        "data = pd.DataFrame({'Actual': y_test.flatten(), 'Predicted': y_predicted.flatten()})\n",
        "data.head(30)"
      ],
      "metadata": {
        "colab": {
          "base_uri": "https://localhost:8080/",
          "height": 990
        },
        "id": "6N9YD3YH_zkc",
        "outputId": "a03527e1-eca9-4bf0-a304-03c191190b4a"
      },
      "execution_count": 20,
      "outputs": [
        {
          "output_type": "execute_result",
          "data": {
            "text/plain": [
              "    Actual    Predicted\n",
              "0    515.0  1055.272302\n",
              "1    264.0  1142.530898\n",
              "2     40.0   187.480769\n",
              "3   5272.0  1221.159523\n",
              "4      1.0    92.551087\n",
              "5   1510.0  1171.297468\n",
              "6    300.0   858.700739\n",
              "7    200.0   187.480769\n",
              "8    159.0   301.588164\n",
              "9   3979.0  2364.151244\n",
              "10    10.0   140.495371\n",
              "11  3518.0  2061.143372\n",
              "12   700.0  5664.635726\n",
              "13   363.0   423.366644\n",
              "14  2731.0  1962.378147\n",
              "15    54.0   127.070972\n",
              "16   729.0  1131.983156\n",
              "17  3285.0  4040.283398\n",
              "18  2465.0  2469.628668\n",
              "19   100.0   283.369336\n",
              "20    42.0   118.441001\n",
              "21   612.0   408.983359\n",
              "22     1.0    92.551087\n",
              "23   223.0   389.805646\n",
              "24     5.0   105.975487\n",
              "25    17.0   112.687687\n",
              "26    26.0   139.536485\n",
              "27  9000.0  2009.363545\n",
              "28  1090.0   427.202187\n",
              "29   144.0   321.724763"
            ],
            "text/html": [
              "\n",
              "  <div id=\"df-5e5059f1-9e01-40c5-8369-a9a21d986df1\">\n",
              "    <div class=\"colab-df-container\">\n",
              "      <div>\n",
              "<style scoped>\n",
              "    .dataframe tbody tr th:only-of-type {\n",
              "        vertical-align: middle;\n",
              "    }\n",
              "\n",
              "    .dataframe tbody tr th {\n",
              "        vertical-align: top;\n",
              "    }\n",
              "\n",
              "    .dataframe thead th {\n",
              "        text-align: right;\n",
              "    }\n",
              "</style>\n",
              "<table border=\"1\" class=\"dataframe\">\n",
              "  <thead>\n",
              "    <tr style=\"text-align: right;\">\n",
              "      <th></th>\n",
              "      <th>Actual</th>\n",
              "      <th>Predicted</th>\n",
              "    </tr>\n",
              "  </thead>\n",
              "  <tbody>\n",
              "    <tr>\n",
              "      <th>0</th>\n",
              "      <td>515.0</td>\n",
              "      <td>1055.272302</td>\n",
              "    </tr>\n",
              "    <tr>\n",
              "      <th>1</th>\n",
              "      <td>264.0</td>\n",
              "      <td>1142.530898</td>\n",
              "    </tr>\n",
              "    <tr>\n",
              "      <th>2</th>\n",
              "      <td>40.0</td>\n",
              "      <td>187.480769</td>\n",
              "    </tr>\n",
              "    <tr>\n",
              "      <th>3</th>\n",
              "      <td>5272.0</td>\n",
              "      <td>1221.159523</td>\n",
              "    </tr>\n",
              "    <tr>\n",
              "      <th>4</th>\n",
              "      <td>1.0</td>\n",
              "      <td>92.551087</td>\n",
              "    </tr>\n",
              "    <tr>\n",
              "      <th>5</th>\n",
              "      <td>1510.0</td>\n",
              "      <td>1171.297468</td>\n",
              "    </tr>\n",
              "    <tr>\n",
              "      <th>6</th>\n",
              "      <td>300.0</td>\n",
              "      <td>858.700739</td>\n",
              "    </tr>\n",
              "    <tr>\n",
              "      <th>7</th>\n",
              "      <td>200.0</td>\n",
              "      <td>187.480769</td>\n",
              "    </tr>\n",
              "    <tr>\n",
              "      <th>8</th>\n",
              "      <td>159.0</td>\n",
              "      <td>301.588164</td>\n",
              "    </tr>\n",
              "    <tr>\n",
              "      <th>9</th>\n",
              "      <td>3979.0</td>\n",
              "      <td>2364.151244</td>\n",
              "    </tr>\n",
              "    <tr>\n",
              "      <th>10</th>\n",
              "      <td>10.0</td>\n",
              "      <td>140.495371</td>\n",
              "    </tr>\n",
              "    <tr>\n",
              "      <th>11</th>\n",
              "      <td>3518.0</td>\n",
              "      <td>2061.143372</td>\n",
              "    </tr>\n",
              "    <tr>\n",
              "      <th>12</th>\n",
              "      <td>700.0</td>\n",
              "      <td>5664.635726</td>\n",
              "    </tr>\n",
              "    <tr>\n",
              "      <th>13</th>\n",
              "      <td>363.0</td>\n",
              "      <td>423.366644</td>\n",
              "    </tr>\n",
              "    <tr>\n",
              "      <th>14</th>\n",
              "      <td>2731.0</td>\n",
              "      <td>1962.378147</td>\n",
              "    </tr>\n",
              "    <tr>\n",
              "      <th>15</th>\n",
              "      <td>54.0</td>\n",
              "      <td>127.070972</td>\n",
              "    </tr>\n",
              "    <tr>\n",
              "      <th>16</th>\n",
              "      <td>729.0</td>\n",
              "      <td>1131.983156</td>\n",
              "    </tr>\n",
              "    <tr>\n",
              "      <th>17</th>\n",
              "      <td>3285.0</td>\n",
              "      <td>4040.283398</td>\n",
              "    </tr>\n",
              "    <tr>\n",
              "      <th>18</th>\n",
              "      <td>2465.0</td>\n",
              "      <td>2469.628668</td>\n",
              "    </tr>\n",
              "    <tr>\n",
              "      <th>19</th>\n",
              "      <td>100.0</td>\n",
              "      <td>283.369336</td>\n",
              "    </tr>\n",
              "    <tr>\n",
              "      <th>20</th>\n",
              "      <td>42.0</td>\n",
              "      <td>118.441001</td>\n",
              "    </tr>\n",
              "    <tr>\n",
              "      <th>21</th>\n",
              "      <td>612.0</td>\n",
              "      <td>408.983359</td>\n",
              "    </tr>\n",
              "    <tr>\n",
              "      <th>22</th>\n",
              "      <td>1.0</td>\n",
              "      <td>92.551087</td>\n",
              "    </tr>\n",
              "    <tr>\n",
              "      <th>23</th>\n",
              "      <td>223.0</td>\n",
              "      <td>389.805646</td>\n",
              "    </tr>\n",
              "    <tr>\n",
              "      <th>24</th>\n",
              "      <td>5.0</td>\n",
              "      <td>105.975487</td>\n",
              "    </tr>\n",
              "    <tr>\n",
              "      <th>25</th>\n",
              "      <td>17.0</td>\n",
              "      <td>112.687687</td>\n",
              "    </tr>\n",
              "    <tr>\n",
              "      <th>26</th>\n",
              "      <td>26.0</td>\n",
              "      <td>139.536485</td>\n",
              "    </tr>\n",
              "    <tr>\n",
              "      <th>27</th>\n",
              "      <td>9000.0</td>\n",
              "      <td>2009.363545</td>\n",
              "    </tr>\n",
              "    <tr>\n",
              "      <th>28</th>\n",
              "      <td>1090.0</td>\n",
              "      <td>427.202187</td>\n",
              "    </tr>\n",
              "    <tr>\n",
              "      <th>29</th>\n",
              "      <td>144.0</td>\n",
              "      <td>321.724763</td>\n",
              "    </tr>\n",
              "  </tbody>\n",
              "</table>\n",
              "</div>\n",
              "      <button class=\"colab-df-convert\" onclick=\"convertToInteractive('df-5e5059f1-9e01-40c5-8369-a9a21d986df1')\"\n",
              "              title=\"Convert this dataframe to an interactive table.\"\n",
              "              style=\"display:none;\">\n",
              "        \n",
              "  <svg xmlns=\"http://www.w3.org/2000/svg\" height=\"24px\"viewBox=\"0 0 24 24\"\n",
              "       width=\"24px\">\n",
              "    <path d=\"M0 0h24v24H0V0z\" fill=\"none\"/>\n",
              "    <path d=\"M18.56 5.44l.94 2.06.94-2.06 2.06-.94-2.06-.94-.94-2.06-.94 2.06-2.06.94zm-11 1L8.5 8.5l.94-2.06 2.06-.94-2.06-.94L8.5 2.5l-.94 2.06-2.06.94zm10 10l.94 2.06.94-2.06 2.06-.94-2.06-.94-.94-2.06-.94 2.06-2.06.94z\"/><path d=\"M17.41 7.96l-1.37-1.37c-.4-.4-.92-.59-1.43-.59-.52 0-1.04.2-1.43.59L10.3 9.45l-7.72 7.72c-.78.78-.78 2.05 0 2.83L4 21.41c.39.39.9.59 1.41.59.51 0 1.02-.2 1.41-.59l7.78-7.78 2.81-2.81c.8-.78.8-2.07 0-2.86zM5.41 20L4 18.59l7.72-7.72 1.47 1.35L5.41 20z\"/>\n",
              "  </svg>\n",
              "      </button>\n",
              "      \n",
              "  <style>\n",
              "    .colab-df-container {\n",
              "      display:flex;\n",
              "      flex-wrap:wrap;\n",
              "      gap: 12px;\n",
              "    }\n",
              "\n",
              "    .colab-df-convert {\n",
              "      background-color: #E8F0FE;\n",
              "      border: none;\n",
              "      border-radius: 50%;\n",
              "      cursor: pointer;\n",
              "      display: none;\n",
              "      fill: #1967D2;\n",
              "      height: 32px;\n",
              "      padding: 0 0 0 0;\n",
              "      width: 32px;\n",
              "    }\n",
              "\n",
              "    .colab-df-convert:hover {\n",
              "      background-color: #E2EBFA;\n",
              "      box-shadow: 0px 1px 2px rgba(60, 64, 67, 0.3), 0px 1px 3px 1px rgba(60, 64, 67, 0.15);\n",
              "      fill: #174EA6;\n",
              "    }\n",
              "\n",
              "    [theme=dark] .colab-df-convert {\n",
              "      background-color: #3B4455;\n",
              "      fill: #D2E3FC;\n",
              "    }\n",
              "\n",
              "    [theme=dark] .colab-df-convert:hover {\n",
              "      background-color: #434B5C;\n",
              "      box-shadow: 0px 1px 3px 1px rgba(0, 0, 0, 0.15);\n",
              "      filter: drop-shadow(0px 1px 2px rgba(0, 0, 0, 0.3));\n",
              "      fill: #FFFFFF;\n",
              "    }\n",
              "  </style>\n",
              "\n",
              "      <script>\n",
              "        const buttonEl =\n",
              "          document.querySelector('#df-5e5059f1-9e01-40c5-8369-a9a21d986df1 button.colab-df-convert');\n",
              "        buttonEl.style.display =\n",
              "          google.colab.kernel.accessAllowed ? 'block' : 'none';\n",
              "\n",
              "        async function convertToInteractive(key) {\n",
              "          const element = document.querySelector('#df-5e5059f1-9e01-40c5-8369-a9a21d986df1');\n",
              "          const dataTable =\n",
              "            await google.colab.kernel.invokeFunction('convertToInteractive',\n",
              "                                                     [key], {});\n",
              "          if (!dataTable) return;\n",
              "\n",
              "          const docLinkHtml = 'Like what you see? Visit the ' +\n",
              "            '<a target=\"_blank\" href=https://colab.research.google.com/notebooks/data_table.ipynb>data table notebook</a>'\n",
              "            + ' to learn more about interactive tables.';\n",
              "          element.innerHTML = '';\n",
              "          dataTable['output_type'] = 'display_data';\n",
              "          await google.colab.output.renderOutput(dataTable, element);\n",
              "          const docLink = document.createElement('div');\n",
              "          docLink.innerHTML = docLinkHtml;\n",
              "          element.appendChild(docLink);\n",
              "        }\n",
              "      </script>\n",
              "    </div>\n",
              "  </div>\n",
              "  "
            ]
          },
          "metadata": {},
          "execution_count": 20
        }
      ]
    },
    {
      "cell_type": "markdown",
      "source": [
        "13. Include your thoughts on how well the model performed on the test set in a markdown cell.\n",
        "\n",
        "\n",
        "*   Include any reflections you have on the impact of possible data bias.\n",
        "\n"
      ],
      "metadata": {
        "id": "IzcneS-b_z3l"
      }
    },
    {
      "cell_type": "markdown",
      "source": [
        "**Answer:** The R-squared value was greater than 0.50, which means the performance of the model is moderate. Neverthless, the MSE is quite large. In this case, we can assess that our hypothesis is partially true, but cannot be considered true for all lands. \n",
        "\n",
        "Whatever, it might also be the case that some or many lands might not be solely dedicated to agriculture, meaning that only a small portion of a big land has been used for agricultural purpose and the rest of the land are used for other purposes, like farming, fishery, nursery, playground or other. While recording the area of the land, area of the whole estate has been recorded instead of the particular area dedicated to sowing and harvesting. \n",
        "\n",
        "Apart from land areas, other factors like use of organic and chemical fertilizers and pesticides contribute to crop production. Big lands need more fertilizers, and if not provided enough, will not produce significant amount of crops. Whatever, we don't have the amount of fertilizers used per land in this dataset, so it goes beyond our scope in this project. \n",
        "\n"
      ],
      "metadata": {
        "id": "Z0aeW8JOLsSu"
      }
    }
  ]
}